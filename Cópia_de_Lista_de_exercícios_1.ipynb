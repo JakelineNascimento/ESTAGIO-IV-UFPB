{
  "nbformat": 4,
  "nbformat_minor": 0,
  "metadata": {
    "colab": {
      "name": "Cópia de Lista de exercícios 1.ipynb",
      "provenance": [],
      "include_colab_link": true
    },
    "kernelspec": {
      "name": "python3",
      "display_name": "Python 3"
    },
    "language_info": {
      "name": "python"
    }
  },
  "cells": [
    {
      "cell_type": "markdown",
      "metadata": {
        "id": "view-in-github",
        "colab_type": "text"
      },
      "source": [
        "<a href=\"https://colab.research.google.com/github/JakelineNascimento/ESTAGIO-IV-UFPB/blob/main/C%C3%B3pia_de_Lista_de_exerc%C3%ADcios_1.ipynb\" target=\"_parent\"><img src=\"https://colab.research.google.com/assets/colab-badge.svg\" alt=\"Open In Colab\"/></a>"
      ]
    },
    {
      "cell_type": "markdown",
      "source": [
        "#Segunda Unidade\n",
        "##1º Lista de exercícios \n",
        "\n",
        "Exercícios com base na aula presencial do dia 09/05 e deverá ser enviado até domingo (15/05). Dessa maneira, vocês podem me enviar o link dessa lista respondida (lembrar de autorizar qualquer pessoa com link de visualizar) ou fazer o download do arquivo (Arquivo > Fazer download > Fazer download do .ibynb) e me enviar por e-mail. \n"
      ],
      "metadata": {
        "id": "nVoKMnfvI72n"
      }
    },
    {
      "cell_type": "code",
      "execution_count": null,
      "metadata": {
        "id": "ZDmoaSRsItAx",
        "colab": {
          "base_uri": "https://localhost:8080/"
        },
        "outputId": "65817a75-10e7-4b58-ff82-6a240b3806c1"
      },
      "outputs": [
        {
          "output_type": "stream",
          "name": "stdout",
          "text": [
            "{1, 2, 3, 4, 5, 6, 7, 8, 9, 10}\n"
          ]
        }
      ],
      "source": [
        "# Exercício 1 - Imprima na tela os números de 1 a 10. Use uma lista para armazenar os números.\n",
        "a={1,2,3,4,5,6,7,8,9,10}\n",
        "print(a)\n",
        "\n",
        " "
      ]
    },
    {
      "cell_type": "code",
      "source": [
        "# Exercício 2 - Crie uma lista de 5 objetos e imprima na tela\n",
        "list = [\"lápis\", \"caneta\", \"caderno\", \"borracha\", \"cola\" ]\n",
        "print (\"list\", list)\n"
      ],
      "metadata": {
        "id": "RFab4ia4OU_I",
        "colab": {
          "base_uri": "https://localhost:8080/"
        },
        "outputId": "80ffc3a6-c440-481f-976c-b731bf4a0f1d"
      },
      "execution_count": null,
      "outputs": [
        {
          "output_type": "stream",
          "name": "stdout",
          "text": [
            "list ['lápis', 'caneta', 'caderno', 'borracha', 'cola']\n"
          ]
        }
      ]
    },
    {
      "cell_type": "code",
      "source": [
        "# Exercício 3 - Crie duas strings e concatene as duas em uma terceira string (com um espaço entre elas)\n",
        "print( \"ola, tudo bem? \" + \" tudo bem.\" + \" \" \"Tá na hora de estuda\")\n"
      ],
      "metadata": {
        "id": "vDvKHdX_OZcI",
        "colab": {
          "base_uri": "https://localhost:8080/"
        },
        "outputId": "8361c90b-e803-4a8c-eca3-f4cdb69173b8"
      },
      "execution_count": null,
      "outputs": [
        {
          "output_type": "stream",
          "name": "stdout",
          "text": [
            "ola, tudo bem?  tudo bem. Tá na hora de estuda\n"
          ]
        }
      ]
    },
    {
      "cell_type": "code",
      "source": [
        "# Exercício 4 - Crie uma lista de 4 elementos. O primeiro elemento deve ser uma string, \n",
        "# o segundo um inteiro, o terceiro um float e quarto um booleano.\n",
        "# Imprima a lista na tela.\n",
        "list3=[ \"ola\", 3, (4/5), True]\n",
        "print(list3)"
      ],
      "metadata": {
        "id": "QYTz08AqOfat",
        "colab": {
          "base_uri": "https://localhost:8080/"
        },
        "outputId": "1dfb7740-ee1b-46e4-8c56-54be850738de"
      },
      "execution_count": null,
      "outputs": [
        {
          "output_type": "stream",
          "name": "stdout",
          "text": [
            "['ola', 3, 0.8, True]\n"
          ]
        }
      ]
    },
    {
      "cell_type": "code",
      "source": [
        "# Exercício 5 - Considere a string abaixo. Imprima na tela apenas o nome \"atuaria\".\n",
        "curso = \"ciências atuariais\"\n",
        "print(\"atuariais\")\n"
      ],
      "metadata": {
        "id": "mMX_QUOHOzPH",
        "colab": {
          "base_uri": "https://localhost:8080/"
        },
        "outputId": "9eff4602-63aa-4a83-caa5-9ae55fbf7671"
      },
      "execution_count": null,
      "outputs": [
        {
          "output_type": "stream",
          "name": "stdout",
          "text": [
            "atuariais\n"
          ]
        }
      ]
    },
    {
      "cell_type": "code",
      "source": [
        "# Exercício 6 - Crie uma variável tipo inteira e converta para tipo float.\n",
        "int('525')\n",
        "float('525')\n"
      ],
      "metadata": {
        "id": "SPnxIsk5PCKF",
        "colab": {
          "base_uri": "https://localhost:8080/"
        },
        "outputId": "d478a2b3-25cc-42bb-c76e-5a96b5c43c22"
      },
      "execution_count": null,
      "outputs": [
        {
          "output_type": "execute_result",
          "data": {
            "text/plain": [
              "525.0"
            ]
          },
          "metadata": {},
          "execution_count": 164
        }
      ]
    },
    {
      "cell_type": "code",
      "source": [
        "# Exercício 7 - Faça uma divisão retorando um número inteiro como resultado\n",
        "8/3\n",
        "round(8/3)\n"
      ],
      "metadata": {
        "id": "qIuT8G9SXbFg",
        "colab": {
          "base_uri": "https://localhost:8080/"
        },
        "outputId": "3f9ce5be-02b6-43d4-d7b4-5978c107b986"
      },
      "execution_count": null,
      "outputs": [
        {
          "output_type": "execute_result",
          "data": {
            "text/plain": [
              "3"
            ]
          },
          "metadata": {},
          "execution_count": 100
        }
      ]
    },
    {
      "cell_type": "code",
      "source": [
        "# Exercício 8 - Imprima a frase \"Palmeiras não tem mundial\" cinco vezes, através de código e sem digitar mais de uma vez a frase. \n",
        "palavra= \"Palmeira não tem mundial\"\n",
        "for palavra in palavra:\n",
        "  print (palavra,palavra,palavra,palavra,palavra)\n",
        "  \n"
      ],
      "metadata": {
        "id": "nPPJFNCePqVV",
        "colab": {
          "base_uri": "https://localhost:8080/"
        },
        "outputId": "40adf580-3596-48d0-c135-a6f724271f33"
      },
      "execution_count": null,
      "outputs": [
        {
          "output_type": "stream",
          "name": "stdout",
          "text": [
            "P P P P P\n",
            "a a a a a\n",
            "l l l l l\n",
            "m m m m m\n",
            "e e e e e\n",
            "i i i i i\n",
            "r r r r r\n",
            "a a a a a\n",
            "         \n",
            "n n n n n\n",
            "ã ã ã ã ã\n",
            "o o o o o\n",
            "         \n",
            "t t t t t\n",
            "e e e e e\n",
            "m m m m m\n",
            "         \n",
            "m m m m m\n",
            "u u u u u\n",
            "n n n n n\n",
            "d d d d d\n",
            "i i i i i\n",
            "a a a a a\n",
            "l l l l l\n"
          ]
        }
      ]
    },
    {
      "cell_type": "code",
      "source": [
        "# Exercício 9 - Crie cada uma das 5 classes de variaveis ensinadas e imprima o tipo da variavel (sem escrever o nome da variável).\n",
        "#tr(3)\n",
        "three=str(3)\n",
        "three*70\n",
        "print\n",
        "int(three*5)\n",
        "str(4.86)\n",
        "print\n",
        "int('123')\n",
        "float('123')\n",
        "\n",
        "\n",
        "\n",
        "\n"
      ],
      "metadata": {
        "id": "apbbPBGvTv5V",
        "colab": {
          "base_uri": "https://localhost:8080/"
        },
        "outputId": "3cfc0b7d-831c-4894-d149-cb97b5bc61a6"
      },
      "execution_count": null,
      "outputs": [
        {
          "output_type": "execute_result",
          "data": {
            "text/plain": [
              "123.0"
            ]
          },
          "metadata": {},
          "execution_count": 3
        }
      ]
    },
    {
      "cell_type": "code",
      "source": [
        "# Exercício 10 - Dada a lista de compras abaixo, substitua maças por bananas \n",
        "listadomercado = [\"ovos\", \"farinha\", \"leite\", \"maças\"]\n",
        "listadomercado.remove(\"maças\")\n",
        "listadomercado.extend(\"bananas\")\n",
        "print(listadomercado)\n"
      ],
      "metadata": {
        "id": "Wfp2TNc-QMC3",
        "colab": {
          "base_uri": "https://localhost:8080/"
        },
        "outputId": "b6d32314-7d55-4275-ea5d-bccab910deab"
      },
      "execution_count": null,
      "outputs": [
        {
          "output_type": "stream",
          "name": "stdout",
          "text": [
            "['ovos', 'farinha', 'leite', 'b', 'a', 'n', 'a', 'n', 'a', 's']\n"
          ]
        }
      ]
    },
    {
      "cell_type": "code",
      "source": [
        "# Exercício 11 - Print a lista de compras abaixo, sem o item \"ovos\" \n",
        "listadomercado = [\"ovos\", \"farinha\", \"leite\", \"maças\"]\n",
        "print(listadomercado)\n",
        "listadomercado.remove(\"ovos\")\n"
      ],
      "metadata": {
        "id": "Kl_dEZhJS1P1",
        "colab": {
          "base_uri": "https://localhost:8080/"
        },
        "outputId": "f2664357-456f-46ca-a8d5-b3e9e88a87a7"
      },
      "execution_count": null,
      "outputs": [
        {
          "output_type": "stream",
          "name": "stdout",
          "text": [
            "['ovos', 'farinha', 'leite', 'maças']\n"
          ]
        }
      ]
    },
    {
      "cell_type": "code",
      "source": [
        "# Exercício 12 - Dada a lista de compras abaixo, adicione cerveja, carne e carvão (#sextou) e imprima a nova lista.\n",
        "listadomercado = [\"ovos\", \"farinha\", \"leite\", \"maças\"]\n",
        "listadomercado.extend(['cerveja', 'carne','carvao(#sextou)'])\n",
        "print(listadomercado)\n"
      ],
      "metadata": {
        "id": "Ysb9Hj1QSN5U",
        "colab": {
          "base_uri": "https://localhost:8080/"
        },
        "outputId": "cafdc07c-280b-461f-f3d7-764b7a5ca32c"
      },
      "execution_count": null,
      "outputs": [
        {
          "output_type": "stream",
          "name": "stdout",
          "text": [
            "['ovos', 'farinha', 'leite', 'maças', 'cerveja', 'carne', 'carvao(#sextou)']\n"
          ]
        }
      ]
    },
    {
      "cell_type": "code",
      "source": [
        "# Exercício 13 - Print a lista de compras abaixo, sem o item \"farinha\" \n",
        "listadomercado = [\"ovos\", \"farinha\", \"leite\", \"maças\"]\n",
        "listadomercado.remove(\"farinha\")\n",
        "print (listadomercado)"
      ],
      "metadata": {
        "id": "143bXMzWTeVo",
        "colab": {
          "base_uri": "https://localhost:8080/"
        },
        "outputId": "2113879b-dea4-4952-8c37-1b0f1c4f7a08"
      },
      "execution_count": null,
      "outputs": [
        {
          "output_type": "stream",
          "name": "stdout",
          "text": [
            "['ovos', 'leite', 'maças']\n"
          ]
        }
      ]
    },
    {
      "cell_type": "code",
      "source": [
        "# Exercício 14 - Arredonde a variável x para 1.\n",
        "x = 9 / 10\n",
        "round(x)\n",
        "\n",
        "\n"
      ],
      "metadata": {
        "id": "wNDwedAgX3AW",
        "colab": {
          "base_uri": "https://localhost:8080/"
        },
        "outputId": "8c8a087f-5e1a-445a-c25c-ea3f45f21d45"
      },
      "execution_count": null,
      "outputs": [
        {
          "output_type": "execute_result",
          "data": {
            "text/plain": [
              "1"
            ]
          },
          "metadata": {},
          "execution_count": 78
        }
      ]
    }
  ]
}