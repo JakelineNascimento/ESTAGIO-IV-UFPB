{
  "nbformat": 4,
  "nbformat_minor": 0,
  "metadata": {
    "colab": {
      "name": "Cópia de Lista de exercicios 2.ipynb",
      "provenance": [],
      "collapsed_sections": [],
      "include_colab_link": true
    },
    "kernelspec": {
      "name": "python3",
      "display_name": "Python 3"
    },
    "language_info": {
      "name": "python"
    }
  },
  "cells": [
    {
      "cell_type": "markdown",
      "metadata": {
        "id": "view-in-github",
        "colab_type": "text"
      },
      "source": [
        "<a href=\"https://colab.research.google.com/github/JakelineNascimento/ESTAGIO-IV-UFPB/blob/main/C%C3%B3pia_de_Lista_de_exercicios_2.ipynb\" target=\"_parent\"><img src=\"https://colab.research.google.com/assets/colab-badge.svg\" alt=\"Open In Colab\"/></a>"
      ]
    },
    {
      "cell_type": "markdown",
      "source": [
        "#Segunda Unidade\n",
        "##2º Lista de exercícios \n",
        "\n",
        "Exercícios com base nas aulas do dia 16/05 e 20/05 e deverá ser enviado até segunda (23/05) antes da aula. Dessa maneira, vocês podem me enviar o link dessa lista respondida (lembrar de autorizar qualquer pessoa com link de visualizar) ou fazer o download do arquivo (Arquivo > Fazer download > Fazer download do .ibynb) e me enviar por e-mail. "
      ],
      "metadata": {
        "id": "55ErYTfbMWZx"
      }
    },
    {
      "cell_type": "code",
      "execution_count": null,
      "metadata": {
        "colab": {
          "base_uri": "https://localhost:8080/"
        },
        "id": "__C90ERAXCZp",
        "outputId": "b53086a3-4993-4262-91a6-177d9e1c7fee"
      },
      "outputs": [
        {
          "output_type": "stream",
          "name": "stdout",
          "text": [
            "Qual o dia da semana?Domingo\n",
            "Hoje é dia de descanso\n"
          ]
        }
      ],
      "source": [
        "# Exercício 1 - Crie uma estrutura que pergunte ao usuário qual o dia da semana. Se o dia for igual a Domingo ou igual a sábado, imprima na tela \"Hoje é dia de descanso\", caso contrário imprima na tela \"Você precisa trabalhar!\"\n",
        "dia= input('Qual o dia da semana?')\n",
        "if dia == 'Domingo' or 'sabado':\n",
        "  print ( \"Hoje é dia de descanso\" )\n",
        "else:\n",
        "  print('você precisa trabalhar')"
      ]
    },
    {
      "cell_type": "code",
      "source": [
        "# Exercício 2 - Imprima a sequência de números pares até 70 (de maneira automatizada)\n",
        "for val in range(0, 70):\n",
        "    if val % 2 == 0:\n",
        "        print(val)"
      ],
      "metadata": {
        "id": "6foai8ABMh5J",
        "colab": {
          "base_uri": "https://localhost:8080/"
        },
        "outputId": "2ad5688a-d138-4e5b-df5b-1162c44580ec"
      },
      "execution_count": null,
      "outputs": [
        {
          "output_type": "stream",
          "name": "stdout",
          "text": [
            "0\n",
            "2\n",
            "4\n",
            "6\n",
            "8\n",
            "10\n",
            "12\n",
            "14\n",
            "16\n",
            "18\n",
            "20\n",
            "22\n",
            "24\n",
            "26\n",
            "28\n",
            "30\n",
            "32\n",
            "34\n",
            "36\n",
            "38\n",
            "40\n",
            "42\n",
            "44\n",
            "46\n",
            "48\n",
            "50\n",
            "52\n",
            "54\n",
            "56\n",
            "58\n",
            "60\n",
            "62\n",
            "64\n",
            "66\n",
            "68\n"
          ]
        }
      ]
    },
    {
      "cell_type": "code",
      "source": [
        "# Exercício 3 - Leia um numero fornecido pelo usuario. Se esse numero for positivo, calcule a raiz quadrada do numero. Se o numero for negativo, mostre uma mensagem dizendo que o numero é invalido\n",
        "tela = True\n",
        "\n",
        "while tela == True:\n",
        "    num1 = int(input('Digite um numero: '))\n",
        "\n",
        "    if num1 > 0:\n",
        "        quadrado = num1 * num1\n",
        "        raiz = math.sqrt (num1)\n",
        "        print(f'O numero digitado ao quadrado é: {quadrado}')\n",
        "        print(f'A raiz do numero digitado é: {raiz}')\n",
        "        tela = False\n",
        "    elif num1 <= 0:\n",
        "        print(\"numero invalido!\")\n",
        "        Tela = True\n"
      ],
      "metadata": {
        "id": "YAu7pVMgQjhP"
      },
      "execution_count": null,
      "outputs": []
    },
    {
      "cell_type": "code",
      "source": [
        "# Exercício 4 - Faça um programa que conte quantas vezes a letra \"e\" aparece na frase abaixo. \n",
        "# \"Receba! e o melhor do mundo! Graças a deus pai!\"\n",
        "frase = \"Receba! e o melhor do mundo!Graças a Deus pai!\"\n",
        " \n",
        "contR = 0\n",
        " \n",
        "for caracter in frase:\n",
        "    if caracter in 'r':\n",
        "        contR = contR + 1\n",
        "        \n",
        "print(\"A frase possui {0} letras 'e'!\".format(contR))\n",
        "\n"
      ],
      "metadata": {
        "id": "9zrwvBO4QuKn",
        "colab": {
          "base_uri": "https://localhost:8080/"
        },
        "outputId": "ed453e1f-2474-4572-80be-cc4b2a120092"
      },
      "execution_count": null,
      "outputs": [
        {
          "output_type": "stream",
          "name": "stdout",
          "text": [
            "A frase possui 2 letras 'e'!\n"
          ]
        }
      ]
    },
    {
      "cell_type": "code",
      "source": [
        "# Exercício 5 - Faça um programa que receba um numero inteiro e verifique se este numero é par ou ımpar (imprima a resposta)\n",
        "num = int(input(\"Imforme um numero: \"))\n",
        "resultado = num % 2\n",
        "\n",
        "if resultado == 0:\n",
        "    print(\"Este numero é par!\")\n",
        "elif resultado == 1:\n",
        "    print(\"Este numero é impar!\")"
      ],
      "metadata": {
        "id": "dOcAfeCXRCyN",
        "colab": {
          "base_uri": "https://localhost:8080/"
        },
        "outputId": "9060c68b-bc63-4c59-d354-a4d6b5f74c80"
      },
      "execution_count": null,
      "outputs": [
        {
          "output_type": "stream",
          "name": "stdout",
          "text": [
            "Imforme um numero: 2\n",
            "Este numero é par!\n"
          ]
        }
      ]
    },
    {
      "cell_type": "code",
      "source": [
        "# Exercício 6 - Faça um programa que receba do usuario as seguintes informações: o salario e o valor da prestacao de um emprestimo. Se a prestação for maior que 20% do salário imprima: Empréstimo não concedido, caso contrario imprima: Empréstimo concedido\n",
        "casa=float(input('Valor da casa: R$'))\n",
        "salário=float(input('Salário do comprador:R$'))\n",
        "anos= int(input('Quantos anos de financiamento?'))\n",
        "prestação = casa/ (anos*12)\n",
        "mínimo = salário* (20/100)\n",
        "print(' a pagar uma casa de R$ {:.2f} em {} anos'.format( casa,anos), end='')\n",
        "print(' a prestação sera de R$ {:.2f} em {} anos'.format(prestação), end='')\n",
        "if prestação <= mínimo:\n",
        "  print(\"emprestimo concedido\")\n",
        "else:\n",
        "  print(\"emprestimo negado!\")\n"
      ],
      "metadata": {
        "id": "BgiHb42sRUCx"
      },
      "execution_count": null,
      "outputs": []
    },
    {
      "cell_type": "code",
      "source": [
        "# Exercício 7 - Escreva um programa que não saia do loop enquanto o usuário não digitar corretamente a senha, além disso quando o usuário errar imprima a seguinte mensagem: \"dica de senha: campeão brasileiro em 1987\"\n",
        "senha = sport\n",
        "  print(\"faça já seu cadastro:\")\n",
        "usuario=str(input(\"usuário--> \"))\n",
        "senha=str(input(\"senha= sport\"))\n",
        "while usuario==senha:\n",
        "\tprint(\"ERRO: \"dica de senha: campeão brasileiro em 1987\")\n",
        "  usuario=str(input(\"usuário--> \"))\n",
        "\tsenha=str(input(\"senha-->\"))\n",
        "else:\n",
        "\tprint(\"cadastrado efetuado com sucesso\")\n",
        "\n"
      ],
      "metadata": {
        "id": "IU9QamZpSVSn"
      },
      "execution_count": null,
      "outputs": []
    },
    {
      "cell_type": "code",
      "source": [
        "#Exercício 8 - Faça uma calculadora das quatro principais operações, na qual você pedirá ao usuário dois números e qual operação matemática será feita, com base nessas informações você deve imprimir a resposta.\n",
        "operacao = input(\"Digite a operacao desejada (soma, sub, mult, div): \")\n",
        "numero1 = input(\"Digite o primeiro número: \")\n",
        "numero2 = input(\"Digite o segundo número: \")\n",
        "\n",
        "if operacao == \"soma\":\n",
        "\tresultado = int(numero1) + int(numero2)\n",
        "if operacao == \"sub\":\n",
        "\tresultado = int(numero1) - int(numero2)\n",
        "if operacao == \"mult\":\n",
        "\tresultado = int(numero1) * int(numero2)\n",
        "if operacao == \"div\":\n",
        "\tresultado = int(numero1) / int(numero2)\n",
        "else:\n",
        "\tresultado = \"Operação suportada\"\n",
        "    \n",
        "print(\"O resultado da operação é: \" + str(resultado))"
      ],
      "metadata": {
        "id": "HsfvqQQgMwIk",
        "colab": {
          "base_uri": "https://localhost:8080/"
        },
        "outputId": "afbf809b-de2e-418f-a59e-aa559f725697"
      },
      "execution_count": null,
      "outputs": [
        {
          "output_type": "stream",
          "name": "stdout",
          "text": [
            "Digite a operacao desejada (soma, sub, mult, div): soma\n",
            "Digite o primeiro número: 1\n",
            "Digite o segundo número: 1\n",
            "O resultado da operação é: Operação suportada\n"
          ]
        }
      ]
    }
  ]
}